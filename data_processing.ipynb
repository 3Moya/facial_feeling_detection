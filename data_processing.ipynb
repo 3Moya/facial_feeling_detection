{
 "cells": [
  {
   "cell_type": "code",
   "execution_count": 4,
   "metadata": {},
   "outputs": [],
   "source": [
    "from ds11mltoolkit import data_processing"
   ]
  },
  {
   "cell_type": "code",
   "execution_count": 5,
   "metadata": {},
   "outputs": [],
   "source": [
    "import numpy as np\n",
    "import pandas as pd\n",
    "import cv2\n",
    "import os\n",
    "import matplotlib.pyplot as plt\n",
    "import pickle\n",
    "from skimage.io import imread\n",
    "from sklearn.utils import shuffle"
   ]
  },
  {
   "attachments": {},
   "cell_type": "markdown",
   "metadata": {},
   "source": [
    "## Constants"
   ]
  },
  {
   "cell_type": "code",
   "execution_count": 6,
   "metadata": {},
   "outputs": [],
   "source": [
    "SEED = 42\n",
    "LABELS = {0: 'angry', 1: 'disgust', 2: 'fear', 3: 'happy', 4: 'neutral', 5: 'sad', 6: 'surprise'}\n",
    "ROOT_PATH = '.'\n",
    "TRAIN_PATH = ROOT_PATH + '/data/train/'\n",
    "TEST_PATH = ROOT_PATH + '/data/test/'\n",
    "MODELS_PATH = ROOT_PATH + '/models/'\n",
    "SUBMISSIONS_PATH = ROOT_PATH + '/submissions/'"
   ]
  },
  {
   "attachments": {},
   "cell_type": "markdown",
   "metadata": {},
   "source": [
    "## Data Loading"
   ]
  },
  {
   "cell_type": "code",
   "execution_count": 7,
   "metadata": {},
   "outputs": [],
   "source": [
    "def read_data(path, im_size):\n",
    "    X = []\n",
    "    ids = []\n",
    "\n",
    "    ##### CODE #####\n",
    "    # Iterar sobre todo lo que haya en path\n",
    "    for file in os.listdir(path):\n",
    "\n",
    "        # Leer la imagen a color y aplicarle el resize\n",
    "        image = cv2.imread(path + file)\n",
    "        smallimage = cv2.resize(image, (im_size, im_size))\n",
    "\n",
    "        # Guardo en X\n",
    "        X.append(smallimage)\n",
    "        ids.append(file.replace('.jpg', ''))\n",
    "        \n",
    "    return np.array(X), ids"
   ]
  },
  {
   "cell_type": "code",
   "execution_count": 20,
   "metadata": {},
   "outputs": [],
   "source": [
    "def input_data(path, img_size):\n",
    "    classes = list(LABELS.values())\n",
    "    images = []\n",
    "    labels = []\n",
    "\n",
    "    for category in classes:\n",
    "        path_cat = os.path.join(path, category)\n",
    "        class_num = classes.index(category)\n",
    "\n",
    "        for img in os.listdir(path_cat):\n",
    "            try:\n",
    "                img_array = cv2.imread(os.path.join(path_cat, img))\n",
    "                new_array = cv2.resize(img_array, (img_size, img_size))\n",
    "                images.append(new_array)\n",
    "                labels.append(class_num)\n",
    "            except:\n",
    "                pass\n",
    "    \n",
    "    images = np.array(images)\n",
    "    labels = np.array(labels)\n",
    "\n",
    "    return images, labels"
   ]
  },
  {
   "cell_type": "code",
   "execution_count": 21,
   "metadata": {},
   "outputs": [],
   "source": [
    "X_train, y_train = input_data(TRAIN_PATH, 48)\n",
    "X_test, test_ids = read_data(TEST_PATH, 48)"
   ]
  },
  {
   "attachments": {},
   "cell_type": "markdown",
   "metadata": {},
   "source": [
    "## Data Processing"
   ]
  },
  {
   "attachments": {},
   "cell_type": "markdown",
   "metadata": {},
   "source": [
    "##### Data Balancing"
   ]
  },
  {
   "cell_type": "code",
   "execution_count": 6,
   "metadata": {},
   "outputs": [],
   "source": [
    "# train_label_count = df['category'].replace(LABELS).value_counts()\n",
    "\n",
    "# train_label_count.plot.bar();"
   ]
  },
  {
   "cell_type": "code",
   "execution_count": 7,
   "metadata": {},
   "outputs": [],
   "source": [
    "# datagen = data_processing.ImageDataGen(\n",
    "#     horizontal_flip=True,\n",
    "#     rotation_range=20,\n",
    "#     shear_range=.1,\n",
    "#     zoom_range=.2,\n",
    "#     width_shift_range=.1,\n",
    "#     height_shift_range=.1\n",
    "# )\n",
    "\n",
    "# X_train = np.expand_dims(X_train, axis=-1)\n",
    "\n",
    "# X_gen, y_gen = datagen.gen_from_array(x=X_train, y=y_train, max_image_count=8000)"
   ]
  },
  {
   "cell_type": "code",
   "execution_count": 8,
   "metadata": {},
   "outputs": [],
   "source": [
    "# gen_labels, gen_label_count = np.unique(y_gen, return_counts=True)\n",
    "# train_label_count += np.sort(gen_label_count)\n",
    "\n",
    "# train_label_count.plot.bar();"
   ]
  },
  {
   "attachments": {},
   "cell_type": "markdown",
   "metadata": {},
   "source": [
    "##### Normalization"
   ]
  },
  {
   "cell_type": "code",
   "execution_count": 22,
   "metadata": {},
   "outputs": [],
   "source": [
    "X_train = X_train / 255.\n",
    "X_test = X_test / 255."
   ]
  },
  {
   "cell_type": "code",
   "execution_count": 23,
   "metadata": {},
   "outputs": [
    {
     "name": "stdout",
     "output_type": "stream",
     "text": [
      "(28821, 48, 48, 3)\n",
      "(7066, 48, 48, 3)\n"
     ]
    }
   ],
   "source": [
    "print(X_train.shape)\n",
    "print(X_test.shape)\n",
    "# print(X_gen.shape)"
   ]
  },
  {
   "attachments": {},
   "cell_type": "markdown",
   "metadata": {},
   "source": [
    "##### Shuffle"
   ]
  },
  {
   "cell_type": "code",
   "execution_count": 11,
   "metadata": {},
   "outputs": [],
   "source": [
    "# X_train = np.concatenate([X_train, X_gen], axis=0)\n",
    "# y_train = np.concatenate([y_train, y_gen], axis=0)"
   ]
  },
  {
   "cell_type": "code",
   "execution_count": 24,
   "metadata": {},
   "outputs": [],
   "source": [
    "X_train, y_train = shuffle(X_train, y_train, random_state=SEED)"
   ]
  },
  {
   "cell_type": "code",
   "execution_count": 25,
   "metadata": {},
   "outputs": [
    {
     "name": "stdout",
     "output_type": "stream",
     "text": [
      "(28821,)\n",
      "(28821, 48, 48, 3)\n"
     ]
    }
   ],
   "source": [
    "print(y_train.shape)\n",
    "print(X_train.shape)"
   ]
  },
  {
   "attachments": {},
   "cell_type": "markdown",
   "metadata": {},
   "source": [
    "## Data Export"
   ]
  },
  {
   "cell_type": "code",
   "execution_count": 26,
   "metadata": {},
   "outputs": [],
   "source": [
    "with open(ROOT_PATH + '/data/test_ids.pkl', 'wb') as f:\n",
    "    pickle.dump(test_ids, f)\n",
    "\n",
    "np.savez(\n",
    "    ROOT_PATH + '/data/rgb_data.npz',\n",
    "    X_train=X_train,\n",
    "    X_test=X_test,\n",
    "    y_train=y_train\n",
    ")"
   ]
  }
 ],
 "metadata": {
  "kernelspec": {
   "display_name": "Python 3",
   "language": "python",
   "name": "python3"
  },
  "language_info": {
   "codemirror_mode": {
    "name": "ipython",
    "version": 3
   },
   "file_extension": ".py",
   "mimetype": "text/x-python",
   "name": "python",
   "nbconvert_exporter": "python",
   "pygments_lexer": "ipython3",
   "version": "3.7.4"
  },
  "orig_nbformat": 4,
  "vscode": {
   "interpreter": {
    "hash": "6379f5935baa16e313082a65cbe5ec73ab788ea4189864d758b188735c2394f8"
   }
  }
 },
 "nbformat": 4,
 "nbformat_minor": 2
}
